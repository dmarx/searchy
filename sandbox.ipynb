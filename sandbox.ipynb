{
 "cells": [
  {
   "cell_type": "code",
   "execution_count": 42,
   "metadata": {},
   "outputs": [],
   "source": [
    "import imghdr # builtin\n",
    "from pathlib import Path\n",
    "import sqlite3\n",
    "\n",
    "import faiss\n",
    "from PIL import Image\n",
    "import torch\n",
    "import torch.nn.functional as F\n",
    "from torch.utils.data import DataLoader, Dataset\n",
    "#from torchvision.datasets import ImageFolder\n",
    "from torchvision.io import read_image\n",
    "from transformers import CLIPProcessor, CLIPModel\n",
    "from torchvision.transforms import ToTensor\n",
    "from torchvision import transforms\n",
    "\n",
    "# https://stackoverflow.com/questions/42462431/oserror-broken-data-stream-when-reading-image-file/47958486\n",
    "from PIL import Image, ImageFile\n",
    "ImageFile.LOAD_TRUNCATED_IMAGES = True"
   ]
  },
  {
   "cell_type": "code",
   "execution_count": 17,
   "metadata": {},
   "outputs": [],
   "source": [
    "# push the default CLIP transforms upstream to the data loader, \n",
    "# should permit batching iamges since we'll have a resize operation\n",
    "# https://huggingface.co/transformers/model_doc/clip.html#transformers.CLIPFeatureExtractor\n",
    "clip_transforms = transforms.Compose([\n",
    "    #transforms.ToPILImage(),\n",
    "    transforms.Resize(size=224),\n",
    "    transforms.CenterCrop(224),\n",
    "    #transforms.ToPILImage(),\n",
    "    transforms.ToTensor(),  # PIL -> ToTensor :: [0,255] -> [0.,1.]\n",
    "    transforms.Normalize([0.48145466, 0.4578275, 0.40821073], \n",
    "                         [0.26862954, 0.26130258, 0.27577711]),\n",
    "    \n",
    "])"
   ]
  },
  {
   "cell_type": "code",
   "execution_count": 58,
   "metadata": {},
   "outputs": [],
   "source": [
    "class CLIP(torch.nn.Module):\n",
    "    n_feats = 5125\n",
    "    def __init__(self, model_string=\"openai/clip-vit-base-patch32\"):\n",
    "        super().__init__()\n",
    "        self._model_string = model_string\n",
    "        self.model = CLIPModel.from_pretrained(model_string)\n",
    "        self.processor = CLIPProcessor.from_pretrained(model_string)\n",
    "        self.model.eval()\n",
    "    def project_images(self, images, normalize=True, preprocessed=False):\n",
    "        if not preprocessed:\n",
    "            imgs = self.processor(images=images, return_tensors=\"pt\", padding=True)\n",
    "        else:\n",
    "            imgs = {'pixel_values':images}\n",
    "        feats = self.model.get_image_features(**imgs)\n",
    "        if normalize:\n",
    "            feats = self.normalize(feats)\n",
    "        return feats\n",
    "    def project_texts(self, texts, normalize=True):\n",
    "        txts = self.processor(text=texts, return_tensors=\"pt\", padding=True)\n",
    "        feats = self.model.get_text_features(**txts)\n",
    "        if normalize:\n",
    "            feats = self.normalize(feats)\n",
    "        return feats\n",
    "    def normalize(self, x):\n",
    "        return x / x.norm(dim=-1, keepdim=True)"
   ]
  },
  {
   "cell_type": "code",
   "execution_count": 54,
   "metadata": {
    "scrolled": false
   },
   "outputs": [],
   "source": [
    "# https://pytorch.org/tutorials/beginner/basics/data_tutorial.html#creating-a-custom-dataset-for-your-files\n",
    "# NB: might be able to use lightning datamodule to parallelize data processing\n",
    "class RecusiveImagesPath(Dataset):\n",
    "    def __init__(self, \n",
    "                 root='sample_data/images', \n",
    "                 transforms=clip_transforms,\n",
    "                 #assign_ids=True, # doesn't need to be optional...\n",
    "                 next_id=0\n",
    "                ):\n",
    "        if isinstance(root, str):\n",
    "            root = Path(root)\n",
    "        assert root.is_dir()\n",
    "        self.root = root\n",
    "        self.transforms = transforms\n",
    "        #self.assign_ids = assign_ids\n",
    "        self.next_id = next_id\n",
    "        self.get_image_paths()\n",
    "    def get_image_paths(self):\n",
    "        self.img_paths = []\n",
    "        for path_obj in self.root.glob('*'):\n",
    "            if self._already_indexed(path_obj):\n",
    "                continue\n",
    "            if imghdr.what(path_obj) is not None:\n",
    "                #self.img_paths.append(path_obj)\n",
    "                self.img_paths.append((path_obj, self.next_id))\n",
    "                self.next_id += 1\n",
    "    def _already_indexed(self, path_obj):\n",
    "        # implement this later, assume all images are new for now\n",
    "        return False\n",
    "    def __len__(self):\n",
    "        return len(self.img_paths)\n",
    "    def __getitem__(self, idx):\n",
    "        #path = str(self.img_paths[idx])\n",
    "        path_obj, im_id = self.img_paths[idx]\n",
    "        path = str(path_obj)\n",
    "        im = Image.open(path)\n",
    "        if self.transforms is not None:\n",
    "            im = self.transforms(im)\n",
    "        #return im, path\n",
    "        return im, path, im_id"
   ]
  },
  {
   "cell_type": "code",
   "execution_count": 59,
   "metadata": {},
   "outputs": [],
   "source": [
    "clip = CLIP()"
   ]
  },
  {
   "cell_type": "code",
   "execution_count": 21,
   "metadata": {},
   "outputs": [],
   "source": [
    "index_fname = 'sample_index.faissindex'\n",
    "index=faiss.read_index(index_fname)"
   ]
  },
  {
   "cell_type": "code",
   "execution_count": 14,
   "metadata": {},
   "outputs": [
    {
     "data": {
      "text/plain": [
       "8"
      ]
     },
     "execution_count": 14,
     "metadata": {},
     "output_type": "execute_result"
    }
   ],
   "source": [
    "index.ntotal"
   ]
  },
  {
   "cell_type": "code",
   "execution_count": 61,
   "metadata": {},
   "outputs": [
    {
     "data": {
      "text/plain": [
       "(torch.Size([8, 512]), True)"
      ]
     },
     "execution_count": 61,
     "metadata": {},
     "output_type": "execute_result"
    }
   ],
   "source": [
    "images = [im for im,p in dataset]\n",
    "im_embed = clip.project_images(images)\n",
    "im_embed.shape, im_embed.requires_grad"
   ]
  },
  {
   "cell_type": "code",
   "execution_count": 35,
   "metadata": {},
   "outputs": [
    {
     "data": {
      "text/plain": [
       "(torch.Size([4, 512]),\n",
       " tensor([1.0000, 1.0000, 1.0000, 1.0000], grad_fn=<CopyBackwards>))"
      ]
     },
     "execution_count": 35,
     "metadata": {},
     "output_type": "execute_result"
    }
   ],
   "source": [
    "texts = [\"my baloney has a first name\", \"tropical beach\", \"beach\", \"sand beach with palm trees on a nice day\"]\n",
    "#txts = clip.processor(text=texts, return_tensors=\"pt\", padding=True)\n",
    "txt_embed = clip.project_texts(texts)\n",
    "txt_embed.shape, txt_embed.norm(dim=-1)"
   ]
  },
  {
   "cell_type": "code",
   "execution_count": 62,
   "metadata": {},
   "outputs": [
    {
     "data": {
      "text/plain": [
       "(tensor([[0.1683, 0.1853, 0.1770, 0.1981, 0.2090, 0.1492, 0.1972, 0.1972],\n",
       "         [0.2623, 0.2536, 0.1461, 0.1679, 0.1688, 0.1912, 0.1985, 0.1701],\n",
       "         [0.2609, 0.2563, 0.1553, 0.1691, 0.1775, 0.1463, 0.1899, 0.1892],\n",
       "         [0.2747, 0.2699, 0.1176, 0.1454, 0.1415, 0.1525, 0.1747, 0.1144]],\n",
       "        grad_fn=<MmBackward>),\n",
       " tensor([[16.8332, 18.5312, 17.7043, 19.8129, 20.9047, 14.9190, 19.7199, 19.7210],\n",
       "         [26.2350, 25.3636, 14.6130, 16.7930, 16.8836, 19.1164, 19.8490, 17.0067],\n",
       "         [26.0949, 25.6321, 15.5259, 16.9058, 17.7491, 14.6251, 18.9940, 18.9170],\n",
       "         [27.4703, 26.9878, 11.7571, 14.5414, 14.1530, 15.2501, 17.4696, 11.4387]],\n",
       "        grad_fn=<MulBackward0>))"
      ]
     },
     "execution_count": 62,
     "metadata": {},
     "output_type": "execute_result"
    }
   ],
   "source": [
    "sims = txt_embed @ im_embed.T\n",
    "#torch.matmul(text_embeds, image_embeds.t()) * logit_scale\n",
    "logit_scale = clip.model.logit_scale.exp()\n",
    "sims, sims * logit_scale"
   ]
  },
  {
   "cell_type": "code",
   "execution_count": 26,
   "metadata": {},
   "outputs": [
    {
     "data": {
      "text/plain": [
       "tensor(100.0000, grad_fn=<ExpBackward>)"
      ]
     },
     "execution_count": 26,
     "metadata": {},
     "output_type": "execute_result"
    }
   ],
   "source": [
    "clip.model.logit_scale.exp() # uh.. ok"
   ]
  },
  {
   "cell_type": "code",
   "execution_count": 63,
   "metadata": {},
   "outputs": [
    {
     "data": {
      "text/plain": [
       "torch.Size([8, 512])"
      ]
     },
     "execution_count": 63,
     "metadata": {},
     "output_type": "execute_result"
    }
   ],
   "source": [
    "#F.softmax(sims, dim=0)\n",
    "im_embed.shape"
   ]
  },
  {
   "cell_type": "code",
   "execution_count": 70,
   "metadata": {},
   "outputs": [
    {
     "data": {
      "text/plain": [
       "tensor([1.0000, 1.0000, 1.0000, 1.0000, 1.0000, 1.0000, 1.0000, 1.0000],\n",
       "       grad_fn=<CopyBackwards>)"
      ]
     },
     "execution_count": 70,
     "metadata": {},
     "output_type": "execute_result"
    }
   ],
   "source": [
    "im_embed.norm(dim=-1)"
   ]
  },
  {
   "cell_type": "code",
   "execution_count": 69,
   "metadata": {},
   "outputs": [],
   "source": [
    "# https://github.com/facebookresearch/faiss/wiki/Getting-started\n",
    "n_feats = 512 # = im_embed.shape\n",
    "index = faiss.IndexFlatIP(n_feats)"
   ]
  },
  {
   "cell_type": "code",
   "execution_count": 71,
   "metadata": {},
   "outputs": [],
   "source": [
    "x = im_embed.detach()\n",
    "index.add(x.numpy())"
   ]
  },
  {
   "cell_type": "code",
   "execution_count": 66,
   "metadata": {},
   "outputs": [
    {
     "data": {
      "text/plain": [
       "(True, 8)"
      ]
     },
     "execution_count": 66,
     "metadata": {},
     "output_type": "execute_result"
    }
   ],
   "source": [
    "index.is_trained, index.ntotal"
   ]
  },
  {
   "cell_type": "code",
   "execution_count": 72,
   "metadata": {},
   "outputs": [
    {
     "data": {
      "text/plain": [
       "(array([[0.20904651, 0.19812861, 0.19721013],\n",
       "        [0.26234967, 0.253636  , 0.1984902 ],\n",
       "        [0.2609494 , 0.25632125, 0.1899397 ],\n",
       "        [0.27470297, 0.26987785, 0.17469627]], dtype=float32),\n",
       " array([[4, 3, 7],\n",
       "        [0, 1, 6],\n",
       "        [0, 1, 6],\n",
       "        [0, 1, 6]], dtype=int64))"
      ]
     },
     "execution_count": 72,
     "metadata": {},
     "output_type": "execute_result"
    }
   ],
   "source": [
    "k = 3\n",
    "x = txt_embed.detach().numpy()\n",
    "D, I = index.search(x, k)\n",
    "D,I"
   ]
  },
  {
   "cell_type": "code",
   "execution_count": 73,
   "metadata": {},
   "outputs": [],
   "source": [
    "faiss.write_index(index, 'sample_index.faissindex')"
   ]
  },
  {
   "cell_type": "code",
   "execution_count": 68,
   "metadata": {},
   "outputs": [
    {
     "name": "stdout",
     "output_type": "stream",
     "text": [
      "0 sample_data\\images\\beach1.jpg\n",
      "1 sample_data\\images\\beach2.jpg\n",
      "2 sample_data\\images\\book1.jpg\n",
      "3 sample_data\\images\\dog1.png\n",
      "4 sample_data\\images\\dog2.png\n",
      "5 sample_data\\images\\landscape1.jpg\n",
      "6 sample_data\\images\\portrait1.jpg\n",
      "7 sample_data\\images\\portrait2.jpg\n"
     ]
    }
   ],
   "source": [
    "[\n",
    "    \"my baloney has a first name\", \n",
    "    \"tropical beach\", \n",
    "    \"beach\", \n",
    "    \"sand beach with palm trees on a nice day\"]\n",
    "for i, p in enumerate(dataset.img_paths):\n",
    "    print(i,p)"
   ]
  },
  {
   "cell_type": "code",
   "execution_count": 55,
   "metadata": {},
   "outputs": [
    {
     "name": "stdout",
     "output_type": "stream",
     "text": [
      "Wall time: 424 ms\n"
     ]
    }
   ],
   "source": [
    "%%time\n",
    "# Let's try loading a bigger dataset\n",
    "# This folder has about 5k images\n",
    "fpath = r\"C:\\Users\\shagg\\Pictures\\phone backup\"\n",
    "dataset = RecusiveImagesPath(root=fpath) "
   ]
  },
  {
   "cell_type": "code",
   "execution_count": 47,
   "metadata": {},
   "outputs": [
    {
     "name": "stdout",
     "output_type": "stream",
     "text": [
      "(1, 87.55937790870667)\n",
      "(1, 103.40788507461548)\n",
      "(1, 111.80389714241028)\n",
      "(1, 124.06582236289978)\n",
      "(1, 118.63201856613159)\n",
      "(2, 95.43580174446106)\n",
      "(2, 99.1537573337555)\n",
      "(2, 107.63567590713501)\n",
      "(2, 115.75678420066833)\n",
      "(2, 115.40816307067871)\n",
      "(4, 109.15526986122131)\n",
      "(4, 109.3173942565918)\n",
      "(4, 108.98661804199219)\n",
      "(4, 108.0500762462616)\n",
      "(4, 108.37364888191223)\n",
      "(8, 106.75039219856262)\n",
      "(8, 108.72889018058777)\n",
      "(8, 108.89992237091064)\n",
      "(8, 108.77169871330261)\n",
      "(8, 108.5592269897461)\n",
      "(16, 106.71030879020691)\n",
      "(16, 106.37933802604675)\n",
      "(16, 106.47861409187317)\n",
      "(16, 107.10803556442261)\n",
      "(16, 107.1734721660614)\n",
      "(32, 107.8037486076355)\n",
      "(32, 105.18110370635986)\n",
      "(32, 105.78199791908264)\n",
      "(32, 104.88599348068237)\n",
      "(32, 104.81387233734131)\n",
      "(64, 104.15468192100525)\n",
      "(64, 103.25387740135193)\n",
      "(64, 103.43574666976929)\n",
      "(64, 102.77426767349243)\n",
      "(64, 101.6763014793396)\n",
      "(128, 101.80644845962524)\n",
      "(128, 101.79952454566956)\n",
      "(128, 102.71944904327393)\n",
      "(128, 101.44365501403809)\n",
      "(128, 95.90809035301208)\n",
      "(256, 87.34305500984192)\n",
      "(256, 88.98091220855713)\n",
      "(256, 99.50674676895142)\n",
      "(256, 96.46851015090942)\n",
      "(256, 87.52513647079468)\n",
      "(512, 96.5098397731781)\n",
      "(512, 100.67550039291382)\n",
      "(512, 88.8571720123291)\n",
      "(512, 92.23456859588623)\n",
      "(512, 101.21820855140686)\n"
     ]
    }
   ],
   "source": [
    "#%%time\n",
    "\n",
    "import time\n",
    "import numpy as np\n",
    "#from loguru import logger\n",
    "\n",
    "batch_sizes = 2**np.arange(5, 10)\n",
    "elapsed = [] # Iteration only\n",
    "elapsed_w_processing = []\n",
    "\n",
    "\n",
    "def try_batch_size(b, max_samples=1024):\n",
    "    n_feats = 512\n",
    "    #index = faiss.IndexFlatIP(n_feats)\n",
    "    img_loader = DataLoader(dataset, batch_size=int(b), shuffle=False)\n",
    "    k = (max_samples / b) -1\n",
    "    for i, (batch, paths, ids) in enumerate(img_loader):\n",
    "        im_embed = clip.project_images(batch, normalize=True, preprocessed=True)\n",
    "        #index.add(im_imbed)\n",
    "        if i == k:\n",
    "            break\n",
    "\n",
    "experiments = []\n",
    "n_tries = 5\n",
    "with torch.no_grad():\n",
    "    for b in batch_sizes:\n",
    "        tries = []\n",
    "        for _ in range(n_tries):\n",
    "            st = time.time()\n",
    "            ###############\n",
    "            try_batch_size(b)\n",
    "            #################\n",
    "            et = time.time()        \n",
    "            e = et - st\n",
    "            print((b, e))\n",
    "            experiments.append((b,e))\n",
    "            #elapsed.append(e)\n",
    "        #elapsed_w_processing.append(e)"
   ]
  },
  {
   "cell_type": "code",
   "execution_count": 3,
   "metadata": {},
   "outputs": [],
   "source": [
    "experiments = [\n",
    "(1, 87.55937790870667),\n",
    "(1, 103.40788507461548),\n",
    "(1, 111.80389714241028),\n",
    "(1, 124.06582236289978),\n",
    "(1, 118.63201856613159),\n",
    "(2, 95.43580174446106),\n",
    "(2, 99.1537573337555),\n",
    "(2, 107.63567590713501),\n",
    "(2, 115.75678420066833),\n",
    "(2, 115.40816307067871),\n",
    "(4, 109.15526986122131),\n",
    "(4, 109.3173942565918),\n",
    "(4, 108.98661804199219),\n",
    "(4, 108.0500762462616),\n",
    "(4, 108.37364888191223),\n",
    "(8, 106.75039219856262),\n",
    "(8, 108.72889018058777),\n",
    "(8, 108.89992237091064),\n",
    "(8, 108.77169871330261),\n",
    "(8, 108.5592269897461),\n",
    "(16, 106.71030879020691),\n",
    "(16, 106.37933802604675),\n",
    "(16, 106.47861409187317),\n",
    "(16, 107.10803556442261),\n",
    "(16, 107.1734721660614),\n",
    "(32, 107.8037486076355),\n",
    "(32, 105.18110370635986),\n",
    "(32, 105.78199791908264),\n",
    "(32, 104.88599348068237),\n",
    "(32, 104.81387233734131),\n",
    "(64, 104.15468192100525),\n",
    "(64, 103.25387740135193),\n",
    "(64, 103.43574666976929),\n",
    "(64, 102.77426767349243),\n",
    "(64, 101.6763014793396),\n",
    "(128, 101.80644845962524),\n",
    "(128, 101.79952454566956),\n",
    "(128, 102.71944904327393),\n",
    "(128, 101.44365501403809),\n",
    "(128, 95.90809035301208),\n",
    "(256, 87.34305500984192),\n",
    "(256, 88.98091220855713),\n",
    "(256, 99.50674676895142),\n",
    "(256, 96.46851015090942),\n",
    "(256, 87.52513647079468),\n",
    "(512, 96.5098397731781),\n",
    "(512, 100.67550039291382),\n",
    "(512, 88.8571720123291),\n",
    "(512, 92.23456859588623),\n",
    "(512, 101.21820855140686),\n",
    "]"
   ]
  },
  {
   "cell_type": "code",
   "execution_count": 12,
   "metadata": {},
   "outputs": [
    {
     "data": {
      "image/png": "[encoded data removed]",
      "text/plain": [
       "<Figure size 432x288 with 1 Axes>"
      ]
     },
     "metadata": {
      "needs_background": "light"
     },
     "output_type": "display_data"
    },
    {
     "data": {
      "text/plain": [
       "<AxesSubplot:xlabel='x', ylabel='y'>"
      ]
     },
     "execution_count": 12,
     "metadata": {},
     "output_type": "execute_result"
    },
    {
     "data": {
      "image/png": "[encoded data removed]",
      "text/plain": [
       "<Figure size 432x288 with 1 Axes>"
      ]
     },
     "metadata": {
      "needs_background": "light"
     },
     "output_type": "display_data"
    }
   ],
   "source": [
    "import matplotlib.pyplot as plt\n",
    "import pandas as pd\n",
    "import seaborn as sns\n",
    "\n",
    "x,y = zip(*experiments)\n",
    "\n",
    "plt.scatter(x,y)\n",
    "plt.show()\n",
    "\n",
    "sns.boxplot(x='x',y='y', data=pd.DataFrame({'x':x,'y':y}))"
   ]
  },
  {
   "cell_type": "code",
   "execution_count": 34,
   "metadata": {},
   "outputs": [
    {
     "name": "stdout",
     "output_type": "stream",
     "text": [
      "(32, 181.6195933818817)\n",
      "(64, 182.2417778968811)\n",
      "(128, 178.59700441360474)\n",
      "(256, 177.95661282539368)\n",
      "(512, 189.41789293289185)\n"
     ]
    }
   ],
   "source": [
    "#%%time\n",
    "\n",
    "import time\n",
    "import numpy as np\n",
    "from loguru import logger\n",
    "import gc\n",
    "\n",
    "batch_sizes = 2**np.arange(5, 10)\n",
    "elapsed = [] # Iteration only\n",
    "elapsed_w_processing = []\n",
    "\n",
    "\n",
    "def try_batch_size(b, max_samples=1024):\n",
    "    n_feats = 512\n",
    "    index = faiss.IndexFlatIP(n_feats)\n",
    "    img_loader = DataLoader(dataset, batch_size=int(b), shuffle=False)\n",
    "    k = (max_samples / b) -1\n",
    "    for i, (batch, paths, ids) in enumerate(img_loader):\n",
    "        im_embed = clip.project_images(batch, normalize=True, preprocessed=True)\n",
    "        index.add(im_embed.numpy())\n",
    "        if i == k:\n",
    "            break\n",
    "\n",
    "experiments = []\n",
    "n_tries = 1\n",
    "with torch.no_grad():\n",
    "    for b in batch_sizes:\n",
    "        tries = []\n",
    "        for _ in range(n_tries):\n",
    "            gc.collect()\n",
    "            st = time.time()\n",
    "            ###############\n",
    "            try_batch_size(b)\n",
    "            #################\n",
    "            et = time.time()        \n",
    "            e = et - st\n",
    "            print((b, e))\n",
    "            experiments.append((b,e))\n",
    "            #elapsed.append(e)\n",
    "        #elapsed_w_processing.append(e)"
   ]
  },
  {
   "cell_type": "code",
   "execution_count": 14,
   "metadata": {},
   "outputs": [],
   "source": [
    "import tqdm"
   ]
  },
  {
   "cell_type": "code",
   "execution_count": 60,
   "metadata": {},
   "outputs": [
    {
     "data": {
      "application/vnd.jupyter.widget-view+json": {
       "model_id": "be44e1a63ee7484d8b508b8f719a09dd",
       "version_major": 2,
       "version_minor": 0
      },
      "text/plain": [
       "  0%|          | 0/337 [00:00<?, ?it/s]"
      ]
     },
     "metadata": {},
     "output_type": "display_data"
    },
    {
     "name": "stdout",
     "output_type": "stream",
     "text": [
      "0.010009527206420898\n"
     ]
    }
   ],
   "source": [
    "#from loguru import logger\n",
    "\n",
    "#from tqdm import tqdm\n",
    "from tqdm.notebook import tqdm\n",
    "\n",
    "#index_fname = 'sample_index.faissindex'\n",
    "#index=faiss.read_index(index_fname)\n",
    "n_feats = 512\n",
    "index = faiss.IndexFlatIP(n_feats)\n",
    "index = faiss.IndexIDMap(index)\n",
    "\n",
    "#b=128\n",
    "b=16 # just so we dno't have to wait forever for first case to fail if it's gonna\n",
    "img_loader = DataLoader(dataset, batch_size=int(b), shuffle=False)\n",
    "\n",
    "with torch.no_grad():\n",
    "    for i, (batch, paths, ids) in enumerate(tqdm(img_loader)):\n",
    "        im_embed = clip.project_images(batch, normalize=True, preprocessed=True)\n",
    "        #index.add(im_embed.numpy())\n",
    "        vecs, ids = im_embed.numpy(), np.array(ids)\n",
    "        index.add_with_ids(vecs, ids)\n",
    "\n",
    "# 17min for 5k images, vectors w/o ids\n",
    "        \n",
    "st = time.time()\n",
    "#faiss.write_index(index, 'test_5k.faissindex') # 0.0205\n",
    "faiss.write_index(index, 'test_5k_w_ids.faissindex')\n",
    "et = time.time()\n",
    "print(et-st)\n"
   ]
  },
  {
   "cell_type": "code",
   "execution_count": 64,
   "metadata": {},
   "outputs": [
    {
     "data": {
      "text/plain": [
       "(array([5376, 5377, 5378, 5379], dtype=int64), 5380)"
      ]
     },
     "execution_count": 64,
     "metadata": {},
     "output_type": "execute_result"
    }
   ],
   "source": [
    "ids, index.ntotal"
   ]
  },
  {
   "cell_type": "code",
   "execution_count": 63,
   "metadata": {},
   "outputs": [
    {
     "data": {
      "text/plain": [
       "['__class__',\n",
       " '__delattr__',\n",
       " '__dict__',\n",
       " '__dir__',\n",
       " '__doc__',\n",
       " '__eq__',\n",
       " '__format__',\n",
       " '__ge__',\n",
       " '__getattribute__',\n",
       " '__getstate__',\n",
       " '__gt__',\n",
       " '__hash__',\n",
       " '__init__',\n",
       " '__init_subclass__',\n",
       " '__le__',\n",
       " '__lt__',\n",
       " '__module__',\n",
       " '__ne__',\n",
       " '__new__',\n",
       " '__reduce__',\n",
       " '__reduce_ex__',\n",
       " '__repr__',\n",
       " '__setattr__',\n",
       " '__setstate__',\n",
       " '__sizeof__',\n",
       " '__str__',\n",
       " '__subclasshook__',\n",
       " '__swig_destroy__',\n",
       " '__weakref__',\n",
       " 'add',\n",
       " 'add_c',\n",
       " 'add_with_ids',\n",
       " 'add_with_ids_c',\n",
       " 'assign',\n",
       " 'assign_c',\n",
       " 'compute_residual',\n",
       " 'compute_residual_n',\n",
       " 'd',\n",
       " 'get_distance_computer',\n",
       " 'id_map',\n",
       " 'index',\n",
       " 'is_trained',\n",
       " 'metric_arg',\n",
       " 'metric_type',\n",
       " 'ntotal',\n",
       " 'own_fields',\n",
       " 'range_search',\n",
       " 'range_search_c',\n",
       " 'reconstruct',\n",
       " 'reconstruct_c',\n",
       " 'reconstruct_n',\n",
       " 'reconstruct_n_c',\n",
       " 'referenced_objects',\n",
       " 'remove_ids',\n",
       " 'remove_ids_c',\n",
       " 'reset',\n",
       " 'sa_code_size',\n",
       " 'sa_decode',\n",
       " 'sa_decode_c',\n",
       " 'sa_encode',\n",
       " 'sa_encode_c',\n",
       " 'search',\n",
       " 'search_and_reconstruct',\n",
       " 'search_and_reconstruct_c',\n",
       " 'search_c',\n",
       " 'this',\n",
       " 'thisown',\n",
       " 'train',\n",
       " 'train_c',\n",
       " 'verbose']"
      ]
     },
     "execution_count": 63,
     "metadata": {},
     "output_type": "execute_result"
    }
   ],
   "source": [
    "dir(index)"
   ]
  },
  {
   "cell_type": "code",
   "execution_count": 39,
   "metadata": {},
   "outputs": [
    {
     "name": "stdout",
     "output_type": "stream",
     "text": [
      "0.020595788955688477\n"
     ]
    }
   ],
   "source": [
    "st = time.time()\n",
    "faiss.write_index(index, 'test_5k.faissindex')\n",
    "et = time.time()\n",
    "print(et-st)\n",
    "# no time at all!"
   ]
  },
  {
   "cell_type": "code",
   "execution_count": 41,
   "metadata": {},
   "outputs": [
    {
     "data": {
      "text/plain": [
       "(5380, True)"
      ]
     },
     "execution_count": 41,
     "metadata": {},
     "output_type": "execute_result"
    }
   ],
   "source": [
    "index.ntotal, index.is_trained # nice"
   ]
  },
  {
   "cell_type": "code",
   "execution_count": 38,
   "metadata": {},
   "outputs": [
    {
     "data": {
      "text/plain": [
       "139"
      ]
     },
     "execution_count": 38,
     "metadata": {},
     "output_type": "execute_result"
    }
   ],
   "source": [
    "import gc\n",
    "gc.collect()"
   ]
  },
  {
   "cell_type": "code",
   "execution_count": 126,
   "metadata": {},
   "outputs": [
    {
     "name": "stdout",
     "output_type": "stream",
     "text": [
      "Wall time: 8min 32s\n"
     ]
    }
   ],
   "source": [
    "%%time\n",
    "\n",
    "\n",
    "\n",
    "# How long does it take to iterate through this? How does batch size impact this?\n",
    "# What is the limit on batch size for a forward pass through the model?\n",
    "# Can I calibrate this somehow? What about recording paths of images that we've processed already?\n",
    "\n",
    "fpath = r\"C:\\Users\\shagg\\Pictures\\phone backup\"\n",
    "dataset = RecusiveImagesPath(root=fpath)\n",
    "\n",
    "#img_loader = DataLoader(dataset, batch_size=64, shuffle=False) # 9min 2s\n",
    "#img_loader = DataLoader(dataset, batch_size=1, shuffle=False) # 12min43s w/o transforms\n",
    "#img_loader = DataLoader(dataset, batch_size=2, shuffle=False)\n",
    "#img_loader = DataLoader(dataset, batch_size=4, shuffle=False) # 8m w transforms (necessary for elevated batch size)\n",
    "#img_loader = DataLoader(dataset, batch_size=8, shuffle=False) # 8min 28s\n",
    "img_loader = DataLoader(dataset, batch_size=16, shuffle=False) # 8min 32s\n",
    "# trying again with larger batch after adding transforms\n",
    "\n",
    "for i, _ in enumerate(img_loader):\n",
    "    continue\n",
    "# yiiikes... 12min43s just to iterate through the files and load them into tensors... yeesh.\n",
    "# seriously doubt I'm multiprocessing here. Possibly low batch size kills multiproc as option?\n",
    "\n",
    "\n",
    "# TypeError: default_collate: batch must contain tensors, numpy arrays, numbers, dicts or lists; \n",
    "# found <class 'PIL.JpegImagePlugin.JpegImageFile'>\n",
    "#\n",
    "# fixed above error with torchvision.io.read_image\n",
    "# Now we've got an uncollated shape issue\n",
    "#   RuntimeError: stack expects each tensor to be equal size, but got [3, 3024, 4032] at entry 0 and [3, 2268, 4032] at entry 16\n",
    "# could add a collate fn per: https://discuss.pytorch.org/t/dataloader-gives-stack-expects-each-tensor-to-be-equal-size-due-to-different-image-has-different-objects-number/91941\n",
    "# ... but then the padding would probably fuck up the CLIP featurization\n",
    "# could go the other way with a crop, but who even knows what I'd be cropping. How even does the model address the input resolution?\n",
    "# whatever, let's see how long it takes with a batch_size of 1\n",
    "#\n",
    "# RuntimeError: Unsupported marker type 0xa3\n",
    "# 'C:\\\\Users\\\\shagg\\\\Pictures\\\\phone backup\\\\20180913_145729.jpg' - panoramic, 35mb. \n",
    "#\n",
    "# crushing error by returning tensor of zeros"
   ]
  },
  {
   "cell_type": "code",
   "execution_count": null,
   "metadata": {},
   "outputs": [],
   "source": [
    "# let's see what happens if we turn up the num_workers\n",
    "fpath = r\"C:\\Users\\shagg\\Pictures\\phone backup\"\n",
    "dataset = RecusiveImagesPath(root=fpath)\n",
    "\n",
    "#img_loader = DataLoader(dataset, batch_size=16, shuffle=False) # 8min 32s\n",
    "#img_loader = DataLoader(dataset, batch_size=16, shuffle=False, num_workers=4) # \n",
    "# yeeeaaah.... this slow af for some reason.\n",
    "#for i, _ in enumerate(img_loader):\n",
    "#    continue"
   ]
  },
  {
   "cell_type": "code",
   "execution_count": 127,
   "metadata": {},
   "outputs": [
    {
     "name": "stdout",
     "output_type": "stream",
     "text": [
      "Help on class DataLoader in module torch.utils.data.dataloader:\n",
      "\n",
      "class DataLoader(typing.Generic)\n",
      " |  DataLoader(*args, **kwds)\n",
      " |  \n",
      " |  Data loader. Combines a dataset and a sampler, and provides an iterable over\n",
      " |  the given dataset.\n",
      " |  \n",
      " |  The :class:`~torch.utils.data.DataLoader` supports both map-style and\n",
      " |  iterable-style datasets with single- or multi-process loading, customizing\n",
      " |  loading order and optional automatic batching (collation) and memory pinning.\n",
      " |  \n",
      " |  See :py:mod:`torch.utils.data` documentation page for more details.\n",
      " |  \n",
      " |  Args:\n",
      " |      dataset (Dataset): dataset from which to load the data.\n",
      " |      batch_size (int, optional): how many samples per batch to load\n",
      " |          (default: ``1``).\n",
      " |      shuffle (bool, optional): set to ``True`` to have the data reshuffled\n",
      " |          at every epoch (default: ``False``).\n",
      " |      sampler (Sampler or Iterable, optional): defines the strategy to draw\n",
      " |          samples from the dataset. Can be any ``Iterable`` with ``__len__``\n",
      " |          implemented. If specified, :attr:`shuffle` must not be specified.\n",
      " |      batch_sampler (Sampler or Iterable, optional): like :attr:`sampler`, but\n",
      " |          returns a batch of indices at a time. Mutually exclusive with\n",
      " |          :attr:`batch_size`, :attr:`shuffle`, :attr:`sampler`,\n",
      " |          and :attr:`drop_last`.\n",
      " |      num_workers (int, optional): how many subprocesses to use for data\n",
      " |          loading. ``0`` means that the data will be loaded in the main process.\n",
      " |          (default: ``0``)\n",
      " |      collate_fn (callable, optional): merges a list of samples to form a\n",
      " |          mini-batch of Tensor(s).  Used when using batched loading from a\n",
      " |          map-style dataset.\n",
      " |      pin_memory (bool, optional): If ``True``, the data loader will copy Tensors\n",
      " |          into CUDA pinned memory before returning them.  If your data elements\n",
      " |          are a custom type, or your :attr:`collate_fn` returns a batch that is a custom type,\n",
      " |          see the example below.\n",
      " |      drop_last (bool, optional): set to ``True`` to drop the last incomplete batch,\n",
      " |          if the dataset size is not divisible by the batch size. If ``False`` and\n",
      " |          the size of dataset is not divisible by the batch size, then the last batch\n",
      " |          will be smaller. (default: ``False``)\n",
      " |      timeout (numeric, optional): if positive, the timeout value for collecting a batch\n",
      " |          from workers. Should always be non-negative. (default: ``0``)\n",
      " |      worker_init_fn (callable, optional): If not ``None``, this will be called on each\n",
      " |          worker subprocess with the worker id (an int in ``[0, num_workers - 1]``) as\n",
      " |          input, after seeding and before data loading. (default: ``None``)\n",
      " |      generator (torch.Generator, optional): If not ``None``, this RNG will be used\n",
      " |          by RandomSampler to generate random indexes and multiprocessing to generate\n",
      " |          `base_seed` for workers. (default: ``None``)\n",
      " |      prefetch_factor (int, optional, keyword-only arg): Number of samples loaded\n",
      " |          in advance by each worker. ``2`` means there will be a total of\n",
      " |          2 * num_workers samples prefetched across all workers. (default: ``2``)\n",
      " |      persistent_workers (bool, optional): If ``True``, the data loader will not shutdown\n",
      " |          the worker processes after a dataset has been consumed once. This allows to\n",
      " |          maintain the workers `Dataset` instances alive. (default: ``False``)\n",
      " |  \n",
      " |  \n",
      " |  .. warning:: If the ``spawn`` start method is used, :attr:`worker_init_fn`\n",
      " |               cannot be an unpicklable object, e.g., a lambda function. See\n",
      " |               :ref:`multiprocessing-best-practices` on more details related\n",
      " |               to multiprocessing in PyTorch.\n",
      " |  \n",
      " |  .. warning:: ``len(dataloader)`` heuristic is based on the length of the sampler used.\n",
      " |               When :attr:`dataset` is an :class:`~torch.utils.data.IterableDataset`,\n",
      " |               it instead returns an estimate based on ``len(dataset) / batch_size``, with proper\n",
      " |               rounding depending on :attr:`drop_last`, regardless of multi-process loading\n",
      " |               configurations. This represents the best guess PyTorch can make because PyTorch\n",
      " |               trusts user :attr:`dataset` code in correctly handling multi-process\n",
      " |               loading to avoid duplicate data.\n",
      " |  \n",
      " |               However, if sharding results in multiple workers having incomplete last batches,\n",
      " |               this estimate can still be inaccurate, because (1) an otherwise complete batch can\n",
      " |               be broken into multiple ones and (2) more than one batch worth of samples can be\n",
      " |               dropped when :attr:`drop_last` is set. Unfortunately, PyTorch can not detect such\n",
      " |               cases in general.\n",
      " |  \n",
      " |               See `Dataset Types`_ for more details on these two types of datasets and how\n",
      " |               :class:`~torch.utils.data.IterableDataset` interacts with\n",
      " |               `Multi-process data loading`_.\n",
      " |  \n",
      " |  .. warning:: See :ref:`reproducibility`, and :ref:`dataloader-workers-random-seed`, and\n",
      " |               :ref:`data-loading-randomness` notes for random seed related questions.\n",
      " |  \n",
      " |  Method resolution order:\n",
      " |      DataLoader\n",
      " |      typing.Generic\n",
      " |      builtins.object\n",
      " |  \n",
      " |  Methods defined here:\n",
      " |  \n",
      " |  __init__(self, dataset: torch.utils.data.dataset.Dataset[+T_co], batch_size: Union[int, NoneType] = 1, shuffle: bool = False, sampler: Union[torch.utils.data.sampler.Sampler[int], NoneType] = None, batch_sampler: Union[torch.utils.data.sampler.Sampler[Sequence[int]], NoneType] = None, num_workers: int = 0, collate_fn: Union[Callable[[List[~T]], Any], NoneType] = None, pin_memory: bool = False, drop_last: bool = False, timeout: float = 0, worker_init_fn: Union[Callable[[int], NoneType], NoneType] = None, multiprocessing_context=None, generator=None, *, prefetch_factor: int = 2, persistent_workers: bool = False)\n",
      " |      Initialize self.  See help(type(self)) for accurate signature.\n",
      " |  \n",
      " |  __iter__(self) -> '_BaseDataLoaderIter'\n",
      " |      # We quote '_BaseDataLoaderIter' since it isn't defined yet and the definition can't be moved up\n",
      " |      # since '_BaseDataLoaderIter' references 'DataLoader'.\n",
      " |  \n",
      " |  __len__(self) -> int\n",
      " |  \n",
      " |  __setattr__(self, attr, val)\n",
      " |      Implement setattr(self, name, value).\n",
      " |  \n",
      " |  check_worker_number_rationality(self)\n",
      " |  \n",
      " |  ----------------------------------------------------------------------\n",
      " |  Data descriptors defined here:\n",
      " |  \n",
      " |  __dict__\n",
      " |      dictionary for instance variables (if defined)\n",
      " |  \n",
      " |  __weakref__\n",
      " |      list of weak references to the object (if defined)\n",
      " |  \n",
      " |  multiprocessing_context\n",
      " |  \n",
      " |  ----------------------------------------------------------------------\n",
      " |  Data and other attributes defined here:\n",
      " |  \n",
      " |  __annotations__ = {'_iterator': typing.Union[ForwardRef('_BaseDataLoad...\n",
      " |  \n",
      " |  __orig_bases__ = (typing.Generic[+T_co],)\n",
      " |  \n",
      " |  __parameters__ = (+T_co,)\n",
      " |  \n",
      " |  ----------------------------------------------------------------------\n",
      " |  Class methods inherited from typing.Generic:\n",
      " |  \n",
      " |  __class_getitem__(params) from builtins.type\n",
      " |  \n",
      " |  __init_subclass__(*args, **kwargs) from builtins.type\n",
      " |      This method is called when a class is subclassed.\n",
      " |      \n",
      " |      The default implementation does nothing. It may be\n",
      " |      overridden to extend subclasses.\n",
      " |  \n",
      " |  ----------------------------------------------------------------------\n",
      " |  Static methods inherited from typing.Generic:\n",
      " |  \n",
      " |  __new__(cls, *args, **kwds)\n",
      " |      Create and return a new object.  See help(type) for accurate signature.\n",
      "\n"
     ]
    }
   ],
   "source": [
    "help(DataLoader) # num_workers , prefetch_factor"
   ]
  },
  {
   "cell_type": "code",
   "execution_count": 118,
   "metadata": {},
   "outputs": [
    {
     "data": {
      "text/plain": [
       "(46,\n",
       " ('C:\\\\Users\\\\shagg\\\\Pictures\\\\phone backup\\\\20180913_144244.jpg',\n",
       "  'C:\\\\Users\\\\shagg\\\\Pictures\\\\phone backup\\\\20180913_144258.jpg',\n",
       "  'C:\\\\Users\\\\shagg\\\\Pictures\\\\phone backup\\\\20180913_144303.jpg',\n",
       "  'C:\\\\Users\\\\shagg\\\\Pictures\\\\phone backup\\\\20180913_144648.jpg'))"
      ]
     },
     "execution_count": 118,
     "metadata": {},
     "output_type": "execute_result"
    }
   ],
   "source": [
    "# OSError: broken data stream when reading image file\n",
    "i, _[1] # the fuck? Why is path 4 files? oh right, batched"
   ]
  },
  {
   "cell_type": "code",
   "execution_count": 122,
   "metadata": {},
   "outputs": [
    {
     "data": {
      "text/plain": [
       "(94,\n",
       " ('C:\\\\Users\\\\shagg\\\\Pictures\\\\phone backup\\\\20180913_145647.jpg',\n",
       "  'C:\\\\Users\\\\shagg\\\\Pictures\\\\phone backup\\\\20180913_145648.jpg'))"
      ]
     },
     "execution_count": 122,
     "metadata": {},
     "output_type": "execute_result"
    }
   ],
   "source": [
    "# OSError: broken data stream when reading image file\n",
    "i, _[1] # \n",
    "# looks like the issue is with 'C:\\\\Users\\\\shagg\\\\Pictures\\\\phone backup\\\\20180913_145648.jpg' "
   ]
  },
  {
   "cell_type": "code",
   "execution_count": 58,
   "metadata": {
    "scrolled": true
   },
   "outputs": [
    {
     "data": {
      "text/plain": [
       "tensor([[[0.5255, 0.5216, 0.5255,  ..., 0.1961, 0.2078, 0.1333],\n",
       "         [0.5176, 0.5176, 0.5255,  ..., 0.2078, 0.1961, 0.1333],\n",
       "         [0.5216, 0.5255, 0.5333,  ..., 0.1686, 0.1529, 0.1294],\n",
       "         ...,\n",
       "         [0.9804, 0.9765, 0.9765,  ..., 0.0275, 0.0392, 0.0392],\n",
       "         [0.9765, 0.9765, 0.9765,  ..., 0.0235, 0.0353, 0.0314],\n",
       "         [0.9765, 0.9725, 0.9765,  ..., 0.0157, 0.0314, 0.0353]],\n",
       "\n",
       "        [[0.6196, 0.6157, 0.6118,  ..., 0.1569, 0.1686, 0.0941],\n",
       "         [0.6118, 0.6118, 0.6118,  ..., 0.1686, 0.1569, 0.0941],\n",
       "         [0.6078, 0.6118, 0.6196,  ..., 0.1294, 0.1137, 0.0902],\n",
       "         ...,\n",
       "         [0.9765, 0.9725, 0.9725,  ..., 0.0235, 0.0353, 0.0353],\n",
       "         [0.9725, 0.9725, 0.9725,  ..., 0.0196, 0.0314, 0.0275],\n",
       "         [0.9725, 0.9686, 0.9725,  ..., 0.0118, 0.0275, 0.0314]],\n",
       "\n",
       "        [[0.7608, 0.7569, 0.7569,  ..., 0.1608, 0.1725, 0.0980],\n",
       "         [0.7529, 0.7529, 0.7569,  ..., 0.1725, 0.1608, 0.0980],\n",
       "         [0.7529, 0.7569, 0.7647,  ..., 0.1333, 0.1176, 0.0941],\n",
       "         ...,\n",
       "         [0.9608, 0.9569, 0.9569,  ..., 0.0078, 0.0196, 0.0196],\n",
       "         [0.9569, 0.9569, 0.9569,  ..., 0.0039, 0.0157, 0.0118],\n",
       "         [0.9569, 0.9529, 0.9569,  ..., 0.0000, 0.0118, 0.0157]]])"
      ]
     },
     "execution_count": 58,
     "metadata": {},
     "output_type": "execute_result"
    }
   ],
   "source": [
    "im_test = Image.open('C:\\\\Users\\\\shagg\\\\Pictures\\\\phone backup\\\\20180913_145729.jpg')\n",
    "#im_test # PIL at least can read the last frame of the panorama.\n",
    "ToTensor()(im_test)"
   ]
  },
  {
   "cell_type": "code",
   "execution_count": 57,
   "metadata": {},
   "outputs": [
    {
     "data": {
      "text/plain": [
       "tensor([[[0.5255, 0.5216, 0.5255,  ..., 0.1961, 0.2078, 0.1333],\n",
       "         [0.5176, 0.5176, 0.5255,  ..., 0.2078, 0.1961, 0.1333],\n",
       "         [0.5216, 0.5255, 0.5333,  ..., 0.1686, 0.1529, 0.1294],\n",
       "         ...,\n",
       "         [0.9804, 0.9765, 0.9765,  ..., 0.0275, 0.0392, 0.0392],\n",
       "         [0.9765, 0.9765, 0.9765,  ..., 0.0235, 0.0353, 0.0314],\n",
       "         [0.9765, 0.9725, 0.9765,  ..., 0.0157, 0.0314, 0.0353]],\n",
       "\n",
       "        [[0.6196, 0.6157, 0.6118,  ..., 0.1569, 0.1686, 0.0941],\n",
       "         [0.6118, 0.6118, 0.6118,  ..., 0.1686, 0.1569, 0.0941],\n",
       "         [0.6078, 0.6118, 0.6196,  ..., 0.1294, 0.1137, 0.0902],\n",
       "         ...,\n",
       "         [0.9765, 0.9725, 0.9725,  ..., 0.0235, 0.0353, 0.0353],\n",
       "         [0.9725, 0.9725, 0.9725,  ..., 0.0196, 0.0314, 0.0275],\n",
       "         [0.9725, 0.9686, 0.9725,  ..., 0.0118, 0.0275, 0.0314]],\n",
       "\n",
       "        [[0.7608, 0.7569, 0.7569,  ..., 0.1608, 0.1725, 0.0980],\n",
       "         [0.7529, 0.7529, 0.7569,  ..., 0.1725, 0.1608, 0.0980],\n",
       "         [0.7529, 0.7569, 0.7647,  ..., 0.1333, 0.1176, 0.0941],\n",
       "         ...,\n",
       "         [0.9608, 0.9569, 0.9569,  ..., 0.0078, 0.0196, 0.0196],\n",
       "         [0.9569, 0.9569, 0.9569,  ..., 0.0039, 0.0157, 0.0118],\n",
       "         [0.9569, 0.9529, 0.9569,  ..., 0.0000, 0.0118, 0.0157]]])"
      ]
     },
     "execution_count": 57,
     "metadata": {},
     "output_type": "execute_result"
    }
   ],
   "source": [
    "ToTensor()(im_test)"
   ]
  }
 ],
 "metadata": {
  "kernelspec": {
   "display_name": "Python 3",
   "language": "python",
   "name": "python3"
  },
  "language_info": {
   "codemirror_mode": {
    "name": "ipython",
    "version": 3
   },
   "file_extension": ".py",
   "mimetype": "text/x-python",
   "name": "python",
   "nbconvert_exporter": "python",
   "pygments_lexer": "ipython3",
   "version": "3.8.3"
  }
 },
 "nbformat": 4,
 "nbformat_minor": 4
}
